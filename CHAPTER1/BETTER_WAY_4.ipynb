{
 "cells": [
  {
   "cell_type": "markdown",
   "metadata": {},
   "source": [
    "# 복잡한 표현식 대신 헬퍼 함수를 사용하자\n",
    "\n",
    "#### 파이썬의 간결한 문법을 이용하면 많은 로직을 표현식 한 줄로 쉽게 작성할 수 있다. \n",
    "예를 들어 URL에서 쿼리 문자열을 디코드해야 한다고 하자. \n",
    "\n",
    "다음 예에서 각 쿼리 문자열 파라미터는 정수 값을 표현한다."
   ]
  },
  {
   "cell_type": "code",
   "execution_count": 1,
   "metadata": {},
   "outputs": [
    {
     "data": {
      "text/plain": [
       "\"{'red': ['5'], 'blue': ['0'], 'green': ['']}\""
      ]
     },
     "execution_count": 1,
     "metadata": {},
     "output_type": "execute_result"
    }
   ],
   "source": [
    "from urllib.parse import parse_qs\n",
    "my_values = parse_qs('red=5&blue=0&green=',\n",
    "                    keep_blank_values=True)\n",
    "repr(my_values)"
   ]
  },
  {
   "cell_type": "code",
   "execution_count": 2,
   "metadata": {},
   "outputs": [
    {
     "name": "stdout",
     "output_type": "stream",
     "text": [
      "Red:      ['5']\n",
      "Green:    ['']\n",
      "Opacity:  None\n"
     ]
    }
   ],
   "source": [
    "print('Red:     ', my_values.get('red'))\n",
    "print('Green:   ', my_values.get('green'))\n",
    "print('Opacity: ', my_values.get('opacity'))"
   ]
  },
  {
   "cell_type": "markdown",
   "metadata": {},
   "source": [
    "파라미터가 없거나 비어있으면 기본값으로 0을 할당하면 좋을것 같다.\n",
    "\n",
    "이 로직에 if문이나 헬퍼 함수를 쓸 필요까지는 없다고 느끼고, 부울 표현식으로 처리\n",
    "\n",
    "빈 문자열, 빈 리스트, 0 모두 False로 처리"
   ]
  },
  {
   "cell_type": "code",
   "execution_count": 7,
   "metadata": {},
   "outputs": [
    {
     "name": "stdout",
     "output_type": "stream",
     "text": [
      "Red:     '5'\n",
      "Green:   0\n",
      "Opacity: 0\n"
     ]
    }
   ],
   "source": [
    "#쿼리 문자열 : 'red=5&blue=0&green='\n",
    "\n",
    "red = my_values.get('red', [''])[0] or 0\n",
    "green = my_values.get('green', [''])[0] or 0\n",
    "opacity = my_values.get('opacity', [''])[0] or 0\n",
    "\n",
    "print('Red:     %r' %red)\n",
    "print('Green:   %r' %green)\n",
    "print('Opacity: %r' %opacity)\n",
    "\n",
    "\n",
    "#위 코드는 읽기 어려울 뿐만 아니라, int로 처리하려면 다시 한번 int 처리를 해주어야 한다.\n",
    "#if/else 조건문을 쓰면 코드를 명확하게 이해할 수 있다."
   ]
  },
  {
   "cell_type": "code",
   "execution_count": 8,
   "metadata": {},
   "outputs": [],
   "source": [
    "green  = my_values.get('green', [''])\n",
    "if green[0]:\n",
    "    grenn = int(green[0])\n",
    "else:\n",
    "    green = 0"
   ]
  },
  {
   "cell_type": "markdown",
   "metadata": {},
   "source": [
    "모든 로직을 펼쳐서 보이면 명확하나, 복잡해보인다.\n",
    "\n",
    "이 로직을 반복해서 사용한다면 헬퍼 함수를 만드는게 좋다."
   ]
  },
  {
   "cell_type": "code",
   "execution_count": 9,
   "metadata": {},
   "outputs": [],
   "source": [
    "def get_first_int(values, key, default = 0):\n",
    "    found = values.get(key, [''])\n",
    "    if found[0]:\n",
    "        found = int(found[0])\n",
    "    else:\n",
    "        found = default\n",
    "    return found"
   ]
  },
  {
   "cell_type": "code",
   "execution_count": 12,
   "metadata": {},
   "outputs": [
    {
     "data": {
      "text/plain": [
       "0"
      ]
     },
     "execution_count": 12,
     "metadata": {},
     "output_type": "execute_result"
    }
   ],
   "source": [
    "green = get_first_int(my_values, 'green')\n",
    "green\n",
    "\n",
    "#표현식이 복잡해지기 싲가하면 최대한 빨리 로직을 헬퍼함수로 옮기는 방안을 고려.\n",
    "#무조건 짧은 코드보다는 가독성을 선택하는 것이 좋다.\n",
    "#특히 이렇게 이해하기 어려운 복잡한 표현식에는 함축적인 문법을 사용하지 말자."
   ]
  },
  {
   "cell_type": "code",
   "execution_count": null,
   "metadata": {},
   "outputs": [],
   "source": []
  }
 ],
 "metadata": {
  "kernelspec": {
   "display_name": "Python 3",
   "language": "python",
   "name": "python3"
  },
  "language_info": {
   "codemirror_mode": {
    "name": "ipython",
    "version": 3
   },
   "file_extension": ".py",
   "mimetype": "text/x-python",
   "name": "python",
   "nbconvert_exporter": "python",
   "pygments_lexer": "ipython3",
   "version": "3.6.4"
  }
 },
 "nbformat": 4,
 "nbformat_minor": 2
}

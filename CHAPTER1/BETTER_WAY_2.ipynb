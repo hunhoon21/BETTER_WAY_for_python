{
 "cells": [
  {
   "cell_type": "markdown",
   "metadata": {},
   "source": [
    "# PEP 8 스타일 가이드를 따르자"
   ]
  },
  {
   "cell_type": "markdown",
   "metadata": {},
   "source": [
    "### 파이썬 개선 제안서(Python Enhancement Proposal) #8, PEP 8은 파이썬 코드를 어떻게 구성할지 알려주는 스타일 가이드다.\n",
    "#### 일관성 있는 스타일을 계속 사용하면 유지보수가 더욱 쉬워지고 가독성도 높아진다. 또, 자신의 코드를 더 쉽게 수정 할 수 있다.\n",
    "\n",
    "#### 전체 가이드는 온라인 https://www.python.org/dev/pips/pip-0008/ 에서 볼 수 있다."
   ]
  },
  {
   "cell_type": "code",
   "execution_count": null,
   "metadata": {},
   "outputs": [],
   "source": []
  }
 ],
 "metadata": {
  "kernelspec": {
   "display_name": "Python 3",
   "language": "python",
   "name": "python3"
  },
  "language_info": {
   "codemirror_mode": {
    "name": "ipython",
    "version": 3
   },
   "file_extension": ".py",
   "mimetype": "text/x-python",
   "name": "python",
   "nbconvert_exporter": "python",
   "pygments_lexer": "ipython3",
   "version": "3.6.4"
  }
 },
 "nbformat": 4,
 "nbformat_minor": 2
}
